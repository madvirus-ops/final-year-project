{
  "nbformat": 4,
  "nbformat_minor": 0,
  "metadata": {
    "colab": {
      "provenance": [],
      "authorship_tag": "ABX9TyOpJzEdKlGl03QZB5P7a9TK",
      "include_colab_link": true
    },
    "kernelspec": {
      "name": "python3",
      "display_name": "Python 3"
    },
    "language_info": {
      "name": "python"
    }
  },
  "cells": [
    {
      "cell_type": "markdown",
      "metadata": {
        "id": "view-in-github",
        "colab_type": "text"
      },
      "source": [
        "<a href=\"https://colab.research.google.com/github/madvirus-ops/final-year-project/blob/edwin/combine.ipynb\" target=\"_parent\"><img src=\"https://colab.research.google.com/assets/colab-badge.svg\" alt=\"Open In Colab\"/></a>"
      ]
    },
    {
      "cell_type": "code",
      "execution_count": 2,
      "metadata": {
        "colab": {
          "base_uri": "https://localhost:8080/"
        },
        "id": "y8qARMWkf5km",
        "outputId": "c2519da3-6978-453c-c5cf-0cccca8ea9b7"
      },
      "outputs": [
        {
          "output_type": "stream",
          "name": "stderr",
          "text": [
            "<ipython-input-2-00e853ccb6cc>:22: MatplotlibDeprecationWarning: The get_cmap function was deprecated in Matplotlib 3.7 and will be removed two minor releases later. Use ``matplotlib.colormaps[name]`` or ``matplotlib.colormaps.get_cmap(obj)`` instead.\n",
            "  color_map = plt.cm.get_cmap('tab10', len(unique_years))\n"
          ]
        },
        {
          "output_type": "stream",
          "name": "stdout",
          "text": [
            "Plots saved to the 'plot_hour' directory.\n"
          ]
        }
      ],
      "source": [
        "import pandas as pd\n",
        "import matplotlib.pyplot as plt\n",
        "import os\n",
        "\n",
        "# Read the Excel file into a Pandas DataFrame\n",
        "file_path = \"lastes_daily_data.xlsx\"  # Replace with the actual path to your Excel file\n",
        "data = pd.read_excel(\"/content/latest_daily_data.xlsx\")\n",
        "\n",
        "# Create the 'plots' directory if it doesn't exist\n",
        "os.makedirs(\"plot_daily_sub\", exist_ok=True)\n",
        "\n",
        "# Convert 'Hour' column to numeric and handle non-numeric values\n",
        "data['DOY'] = pd.to_numeric(data['DOY'], errors='coerce').ffill()\n",
        "\n",
        "# Ensure 'Hour' column has the same length as other columns\n",
        "data = data.dropna(subset=['DOY'])\n",
        "\n",
        "# Get unique years in the dataset\n",
        "unique_years = data['YEAR'].unique()\n",
        "\n",
        "# Create a color map with a unique color for each year\n",
        "color_map = plt.cm.get_cmap('tab10', len(unique_years))\n",
        "\n",
        "# Iterate through each column and create subplots for each year\n",
        "for column in data.columns:\n",
        "    # Replace invalid characters in the column name\n",
        "    sanitized_column_name = column.replace(\" \", \"_\").replace(\"/\", \"_\").replace(\",\", \"\").replace(\"(\", \"\").replace(\")\", \"\")\n",
        "\n",
        "    # Create a new figure with subplots\n",
        "    fig, axs = plt.subplots(len(unique_years), 1, figsize=(10, 5 * len(unique_years)))\n",
        "\n",
        "    for i, year in enumerate(unique_years):\n",
        "        year_data = data[data['YEAR'] == year]\n",
        "        axs[i].plot(year_data['DOY'], year_data[column], label=str(year), color=color_map(i))\n",
        "        axs[i].set_ylabel(column)\n",
        "        axs[i].set_xlabel('Day of Year (DOY)')\n",
        "        axs[i].legend(title='Year', loc='upper right')\n",
        "\n",
        "    plt.suptitle(f'{column} vs. DOY', y=0.92)  # Adjust the title position\n",
        "    plt.subplots_adjust(hspace=0.5)  # Adjust the vertical space between subplots\n",
        "\n",
        "    # Save the plot with the sanitized column name\n",
        "    plt.savefig(f'plot_daily_sub/{sanitized_column_name}_vs_Daily_average_subplots.png')\n",
        "\n",
        "    plt.close()  # Close the current figure\n",
        "\n",
        "# Optionally, display a message indicating the completion\n",
        "print(\"Plots saved to the 'plot_hour' directory.\")"
      ]
    }
  ]
}